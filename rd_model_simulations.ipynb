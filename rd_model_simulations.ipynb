{
 "cells": [
  {
   "cell_type": "code",
   "execution_count": 7,
   "metadata": {},
   "outputs": [],
   "source": [
    "import rd_model\n",
    "import pandas as pd\n",
    "import itertools"
   ]
  },
  {
   "cell_type": "markdown",
   "metadata": {},
   "source": [
    "Categorical Scenario Options:  \n",
    "  \n",
    "* Gov't Policy (\"policy\"):\n",
    "  * 'NONE', 'INDISC-CONC','TARG-CONC', 'INDISC-REPR', 'TARG-REPR'\n",
    "* Gov't Reactivity Level (\"reactive_lvl\"):\n",
    "  * 'high', 'mid-high', 'mid-low', 'low', 'none'\n",
    "* Agent Discontent (\"discontent\"):\n",
    "  * 'high', 'mid', 'low'\n",
    "\n",
    "### Sample running single simulation with mid-way shift"
   ]
  },
  {
   "cell_type": "code",
   "execution_count": 2,
   "metadata": {},
   "outputs": [
    {
     "name": "stdout",
     "output_type": "stream",
     "text": [
      "Regime change! Policy shift underway at step 200 ... \n",
      "\n"
     ]
    }
   ],
   "source": [
    "scenario = rd_model.CounterterrorismModel(N=200, height=3,width=4,prob_violence=0.0001,\\\n",
    "    policy='NONE',reactive_lvl='low',discontent='low',add_violence_aftermath=10, \\\n",
    "    crowding_threshold=30, agent_birth_rate=0.03, timestep_to_change=200, \\\n",
    "    change_prob_violence=0.0001, change_policy='CONC',change_reactive_lvl='none',change_discontent='mid',\\\n",
    "    change_add_violence_aftermath=10, change_crowding_threshold=30, change_agent_birth_rate=0.03)\n",
    "for i in range(400):\n",
    "    scenario.step()"
   ]
  },
  {
   "cell_type": "code",
   "execution_count": 3,
   "metadata": {},
   "outputs": [
    {
     "data": {
      "text/plain": [
       "<AxesSubplot:>"
      ]
     },
     "execution_count": 3,
     "metadata": {},
     "output_type": "execute_result"
    },
    {
     "data": {
      "image/png": "[encoded data removed]",
      "text/plain": [
       "<Figure size 432x288 with 1 Axes>"
      ]
     },
     "metadata": {
      "needs_background": "light"
     },
     "output_type": "display_data"
    }
   ],
   "source": [
    "# show agents and attacks throughout model\n",
    "model_df = scenario.datacollector.get_model_vars_dataframe()\n",
    "model_df.plot()"
   ]
  },
  {
   "cell_type": "code",
   "execution_count": 6,
   "metadata": {},
   "outputs": [
    {
     "data": {
      "text/html": [
       "<div>\n",
       "<style scoped>\n",
       "    .dataframe tbody tr th:only-of-type {\n",
       "        vertical-align: middle;\n",
       "    }\n",
       "\n",
       "    .dataframe tbody tr th {\n",
       "        vertical-align: top;\n",
       "    }\n",
       "\n",
       "    .dataframe thead th {\n",
       "        text-align: right;\n",
       "    }\n",
       "</style>\n",
       "<table border=\"1\" class=\"dataframe\">\n",
       "  <thead>\n",
       "    <tr style=\"text-align: right;\">\n",
       "      <th></th>\n",
       "      <th></th>\n",
       "      <th>status</th>\n",
       "      <th>agent_loc</th>\n",
       "    </tr>\n",
       "    <tr>\n",
       "      <th>Step</th>\n",
       "      <th>AgentID</th>\n",
       "      <th></th>\n",
       "      <th></th>\n",
       "    </tr>\n",
       "  </thead>\n",
       "  <tbody>\n",
       "    <tr>\n",
       "      <th rowspan=\"5\" valign=\"top\">1</th>\n",
       "      <th>1</th>\n",
       "      <td>sympathetic</td>\n",
       "      <td>(1, 0)</td>\n",
       "    </tr>\n",
       "    <tr>\n",
       "      <th>2</th>\n",
       "      <td>sympathetic</td>\n",
       "      <td>(1, 1)</td>\n",
       "    </tr>\n",
       "    <tr>\n",
       "      <th>3</th>\n",
       "      <td>anti-violence</td>\n",
       "      <td>(2, 3)</td>\n",
       "    </tr>\n",
       "    <tr>\n",
       "      <th>4</th>\n",
       "      <td>neutral</td>\n",
       "      <td>(2, 2)</td>\n",
       "    </tr>\n",
       "    <tr>\n",
       "      <th>5</th>\n",
       "      <td>anti-violence</td>\n",
       "      <td>(1, 1)</td>\n",
       "    </tr>\n",
       "    <tr>\n",
       "      <th>...</th>\n",
       "      <th>...</th>\n",
       "      <td>...</td>\n",
       "      <td>...</td>\n",
       "    </tr>\n",
       "    <tr>\n",
       "      <th>396</th>\n",
       "      <th>777</th>\n",
       "      <td>neutral</td>\n",
       "      <td>(1, 3)</td>\n",
       "    </tr>\n",
       "    <tr>\n",
       "      <th>397</th>\n",
       "      <th>777</th>\n",
       "      <td>neutral</td>\n",
       "      <td>(1, 3)</td>\n",
       "    </tr>\n",
       "    <tr>\n",
       "      <th>398</th>\n",
       "      <th>777</th>\n",
       "      <td>neutral</td>\n",
       "      <td>(1, 3)</td>\n",
       "    </tr>\n",
       "    <tr>\n",
       "      <th>399</th>\n",
       "      <th>777</th>\n",
       "      <td>neutral</td>\n",
       "      <td>(1, 3)</td>\n",
       "    </tr>\n",
       "    <tr>\n",
       "      <th>400</th>\n",
       "      <th>777</th>\n",
       "      <td>neutral</td>\n",
       "      <td>(1, 3)</td>\n",
       "    </tr>\n",
       "  </tbody>\n",
       "</table>\n",
       "<p>40188 rows × 2 columns</p>\n",
       "</div>"
      ],
      "text/plain": [
       "                     status agent_loc\n",
       "Step AgentID                         \n",
       "1    1          sympathetic    (1, 0)\n",
       "     2          sympathetic    (1, 1)\n",
       "     3        anti-violence    (2, 3)\n",
       "     4              neutral    (2, 2)\n",
       "     5        anti-violence    (1, 1)\n",
       "...                     ...       ...\n",
       "396  777            neutral    (1, 3)\n",
       "397  777            neutral    (1, 3)\n",
       "398  777            neutral    (1, 3)\n",
       "399  777            neutral    (1, 3)\n",
       "400  777            neutral    (1, 3)\n",
       "\n",
       "[40188 rows x 2 columns]"
      ]
     },
     "execution_count": 6,
     "metadata": {},
     "output_type": "execute_result"
    }
   ],
   "source": [
    "agents_df = scenario.datacollector.get_agent_vars_dataframe()\n",
    "nongovt_agents_df = agents_df[agents_df.status.isin(['anti-violence','combatant','neutral','sympathetic'])]\n",
    "nongovt_agents_df"
   ]
  },
  {
   "cell_type": "code",
   "execution_count": 5,
   "metadata": {},
   "outputs": [
    {
     "data": {
      "text/html": [
       "<div>\n",
       "<style scoped>\n",
       "    .dataframe tbody tr th:only-of-type {\n",
       "        vertical-align: middle;\n",
       "    }\n",
       "\n",
       "    .dataframe tbody tr th {\n",
       "        vertical-align: top;\n",
       "    }\n",
       "\n",
       "    .dataframe thead th {\n",
       "        text-align: right;\n",
       "    }\n",
       "</style>\n",
       "<table border=\"1\" class=\"dataframe\">\n",
       "  <thead>\n",
       "    <tr style=\"text-align: right;\">\n",
       "      <th></th>\n",
       "      <th>step</th>\n",
       "      <th>govt_action</th>\n",
       "      <th>action_loc</th>\n",
       "      <th>violence_aftermath</th>\n",
       "    </tr>\n",
       "  </thead>\n",
       "  <tbody>\n",
       "    <tr>\n",
       "      <th>0</th>\n",
       "      <td>1</td>\n",
       "      <td>INDISC-REPR</td>\n",
       "      <td>(0, 0)</td>\n",
       "      <td>10</td>\n",
       "    </tr>\n",
       "    <tr>\n",
       "      <th>1</th>\n",
       "      <td>2</td>\n",
       "      <td>NONE</td>\n",
       "      <td>(0, 0)</td>\n",
       "      <td>9</td>\n",
       "    </tr>\n",
       "    <tr>\n",
       "      <th>2</th>\n",
       "      <td>3</td>\n",
       "      <td>NONE</td>\n",
       "      <td>(0, 0)</td>\n",
       "      <td>8</td>\n",
       "    </tr>\n",
       "    <tr>\n",
       "      <th>3</th>\n",
       "      <td>4</td>\n",
       "      <td>INDISC-CONC</td>\n",
       "      <td>(0, 0)</td>\n",
       "      <td>10</td>\n",
       "    </tr>\n",
       "    <tr>\n",
       "      <th>4</th>\n",
       "      <td>5</td>\n",
       "      <td>INDISC-REPR</td>\n",
       "      <td>(0, 0)</td>\n",
       "      <td>10</td>\n",
       "    </tr>\n",
       "    <tr>\n",
       "      <th>...</th>\n",
       "      <td>...</td>\n",
       "      <td>...</td>\n",
       "      <td>...</td>\n",
       "      <td>...</td>\n",
       "    </tr>\n",
       "    <tr>\n",
       "      <th>395</th>\n",
       "      <td>396</td>\n",
       "      <td>INDISC-CONC</td>\n",
       "      <td>(0, 0)</td>\n",
       "      <td>0</td>\n",
       "    </tr>\n",
       "    <tr>\n",
       "      <th>396</th>\n",
       "      <td>397</td>\n",
       "      <td>NONE</td>\n",
       "      <td>(0, 0)</td>\n",
       "      <td>0</td>\n",
       "    </tr>\n",
       "    <tr>\n",
       "      <th>397</th>\n",
       "      <td>398</td>\n",
       "      <td>INDISC-REPR</td>\n",
       "      <td>(0, 0)</td>\n",
       "      <td>0</td>\n",
       "    </tr>\n",
       "    <tr>\n",
       "      <th>398</th>\n",
       "      <td>399</td>\n",
       "      <td>TARG-REPR</td>\n",
       "      <td>(1, 2)</td>\n",
       "      <td>0</td>\n",
       "    </tr>\n",
       "    <tr>\n",
       "      <th>399</th>\n",
       "      <td>400</td>\n",
       "      <td>TARG-CONC</td>\n",
       "      <td>(1, 0)</td>\n",
       "      <td>0</td>\n",
       "    </tr>\n",
       "  </tbody>\n",
       "</table>\n",
       "<p>400 rows × 4 columns</p>\n",
       "</div>"
      ],
      "text/plain": [
       "     step  govt_action action_loc  violence_aftermath\n",
       "0       1  INDISC-REPR     (0, 0)                  10\n",
       "1       2         NONE     (0, 0)                   9\n",
       "2       3         NONE     (0, 0)                   8\n",
       "3       4  INDISC-CONC     (0, 0)                  10\n",
       "4       5  INDISC-REPR     (0, 0)                  10\n",
       "..    ...          ...        ...                 ...\n",
       "395   396  INDISC-CONC     (0, 0)                   0\n",
       "396   397         NONE     (0, 0)                   0\n",
       "397   398  INDISC-REPR     (0, 0)                   0\n",
       "398   399    TARG-REPR     (1, 2)                   0\n",
       "399   400    TARG-CONC     (1, 0)                   0\n",
       "\n",
       "[400 rows x 4 columns]"
      ]
     },
     "execution_count": 5,
     "metadata": {},
     "output_type": "execute_result"
    }
   ],
   "source": [
    "govt_actions = scenario.datacollector.get_table_dataframe('govt_actions')\n",
    "govt_actions"
   ]
  },
  {
   "cell_type": "code",
   "execution_count": null,
   "metadata": {},
   "outputs": [],
   "source": [
    "# attacker deaths, not as relevant for analysis\n",
    "scenario.datacollector.get_table_dataframe('Deaths')"
   ]
  },
  {
   "cell_type": "markdown",
   "metadata": {},
   "source": [
    "### Running multiple simulations with mid-way shifts:"
   ]
  },
  {
   "cell_type": "code",
   "execution_count": 13,
   "metadata": {},
   "outputs": [],
   "source": [
    "prob_violence = [0.0001, 0.0005, 0.001]\n",
    "change_prob_violence = [0.0005, 0.00005, 0.0001]\n",
    "govt_policy = ['NONE','CONC','REPR']\n",
    "change_govt_policy = ['NONE','CONC','REPR']\n",
    "reactive_lvl=['high','mid-high','mid-low','low','none']\n",
    "change_reactive_lvl = ['high','mid-high','mid-low','low','none']\n",
    "discontent = ['high','mid','low']\n",
    "change_discontent = ['high','mid','low']\n",
    "starting_population = [300]\n",
    "grid_size = {200:(2,3),300:(3,3),400:(3,4),600:(4,5),\\\n",
    "                800:(5,5),1000:(5,6)}\n",
    "steps = [400]\n",
    "\n",
    "full_params = [prob_violence, change_prob_violence, govt_policy,change_govt_policy,\\\n",
    "                reactive_lvl,change_reactive_lvl, discontent, change_discontent,\\\n",
    "                starting_population,steps]\n",
    "param_options = list(itertools.product(*full_params))"
   ]
  },
  {
   "cell_type": "code",
   "execution_count": 14,
   "metadata": {},
   "outputs": [
    {
     "data": {
      "text/plain": [
       "[(0.0001, 0.0005, 'NONE', 'NONE', 'high', 'high', 'high', 'high', 300, 400),\n",
       " (0.0001, 0.0005, 'NONE', 'NONE', 'high', 'high', 'high', 'mid', 300, 400)]"
      ]
     },
     "execution_count": 14,
     "metadata": {},
     "output_type": "execute_result"
    }
   ],
   "source": [
    "param_options[0:2]"
   ]
  },
  {
   "cell_type": "code",
   "execution_count": null,
   "metadata": {},
   "outputs": [],
   "source": [
    "for params in param_options[0:2]:\n",
    "    return_dict = {'params':params}\n",
    "    prob_violence, change_prob_violence, govt_policy,change_govt_policy,\\\n",
    "    reactive_lvl,change_reactive_lvl, discontent, change_discontent,\\\n",
    "    starting_population,steps = params\n",
    "    height, width = grid_size[starting_population]\n",
    "    model = rd_model.CounterterrorismModel(N=starting_population,height=height,\\\n",
    "                                            width=width,prob_violence=prob_violence,\\\n",
    "                                            policy=govt_policy,reactive_lvl=reactive_lvl,\\\n",
    "                                            discontent=discontent,change_prob_violence=change_prob_violence,\\\n",
    "                                            change_policy=change_govt_policy,\\\n",
    "                                            change_reactive_lvl=change_reactive_lvl,\\\n",
    "                                            change_discontent=change_discontent,\n",
    "                                            timestep_to_change=round(steps / 2))\n",
    "    for i in range(steps):\n",
    "        model.step()"
   ]
  }
 ],
 "metadata": {
  "interpreter": {
   "hash": "40f6b8985ae3d3af9736205d555f7ff87522357a9f5bdb6e88eda9160976b228"
  },
  "kernelspec": {
   "display_name": "Python 3.9.10 64-bit ('venv': venv)",
   "language": "python",
   "name": "python3"
  },
  "language_info": {
   "codemirror_mode": {
    "name": "ipython",
    "version": 3
   },
   "file_extension": ".py",
   "mimetype": "text/x-python",
   "name": "python",
   "nbconvert_exporter": "python",
   "pygments_lexer": "ipython3",
   "version": "3.9.10"
  },
  "orig_nbformat": 4
 },
 "nbformat": 4,
 "nbformat_minor": 2
}
